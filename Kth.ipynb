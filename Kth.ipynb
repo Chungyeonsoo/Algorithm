{
 "cells": [
  {
   "cell_type": "code",
   "execution_count": 1,
   "metadata": {},
   "outputs": [
    {
     "name": "stdout",
     "output_type": "stream",
     "text": [
      "[5, 6, 3]\n"
     ]
    }
   ],
   "source": [
    "def solution(array, commands):\n",
    "    answer=[]\n",
    "    for i in commands:\n",
    "        arr = sorted(array[i[0]-1:i[1]])\n",
    "        answer.append(arr[i[2]-1])\n",
    "\n",
    "    return answer\n",
    "\n",
    "array = [1, 5, 2, 6, 3, 7, 4]\n",
    "commands = [[2, 5, 3], [4, 4, 1], [1, 7, 3]]\n",
    "\n",
    "print(solution(array, commands))"
   ]
  },
  {
   "cell_type": "code",
   "execution_count": 2,
   "metadata": {},
   "outputs": [
    {
     "name": "stdout",
     "output_type": "stream",
     "text": [
      "[5, 6, 3]\n"
     ]
    }
   ],
   "source": [
    "def solution2(array, commands):\n",
    "    return list(map(lambda x : sorted(array[x[0]-1:x[1]])[x[2]-1], commands))\n",
    "\n",
    "array = [1, 5, 2, 6, 3, 7, 4]\n",
    "commands = [[2, 5, 3], [4, 4, 1], [1, 7, 3]]\n",
    "\n",
    "print(solution2(array, commands))\n",
    "    "
   ]
  },
  {
   "cell_type": "code",
   "execution_count": null,
   "metadata": {},
   "outputs": [],
   "source": [
    "# return list(map(lambda x : sorted(array[x[0]-1:x[1]])[x[2]-1], commands))\n",
    "\n",
    "# commands -> lambda x\n",
    "# sorted(array[x[0]-1 : x[1]]) [x[2]-1]\n",
    "# sorted [x[0]-1 ~ x[1]] [x[2]-1]\n",
    "# map -> range(commands)\n",
    "# commands = 2D list"
   ]
  }
 ],
 "metadata": {
  "kernelspec": {
   "display_name": "Python 3",
   "language": "python",
   "name": "python3"
  },
  "language_info": {
   "codemirror_mode": {
    "name": "ipython",
    "version": 3
   },
   "file_extension": ".py",
   "mimetype": "text/x-python",
   "name": "python",
   "nbconvert_exporter": "python",
   "pygments_lexer": "ipython3",
   "version": "3.8.5"
  }
 },
 "nbformat": 4,
 "nbformat_minor": 4
}
