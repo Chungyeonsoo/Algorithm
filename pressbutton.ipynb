{
 "cells": [
  {
   "cell_type": "code",
   "execution_count": 2,
   "metadata": {},
   "outputs": [
    {
     "ename": "SyntaxError",
     "evalue": "invalid syntax (<ipython-input-2-1d89528a544e>, line 30)",
     "output_type": "error",
     "traceback": [
      "\u001b[0;36m  File \u001b[0;32m\"<ipython-input-2-1d89528a544e>\"\u001b[0;36m, line \u001b[0;32m30\u001b[0m\n\u001b[0;31m    print(lx)\u001b[0m\n\u001b[0m    ^\u001b[0m\n\u001b[0;31mSyntaxError\u001b[0m\u001b[0;31m:\u001b[0m invalid syntax\n"
     ]
    }
   ],
   "source": []
  },
  {
   "cell_type": "code",
   "execution_count": 13,
   "metadata": {},
   "outputs": [
    {
     "name": "stdout",
     "output_type": "stream",
     "text": [
      "3\n"
     ]
    }
   ],
   "source": [
    "a = '123123123'\n",
    "print(a[-1])"
   ]
  },
  {
   "cell_type": "code",
   "execution_count": 6,
   "metadata": {},
   "outputs": [
    {
     "name": "stdout",
     "output_type": "stream",
     "text": [
      "LRLLLRLLRRL\n"
     ]
    }
   ],
   "source": [
    "def solution(numbers, hand):\n",
    "    l = [1,4,7]\n",
    "    r = [3,6,9]\n",
    "\n",
    "    position = {1:(0, 0), 2:(0, 1), 3:(0, 2),\n",
    "                4:(1, 0), 5:(1, 1), 6:(1, 2),\n",
    "                7:(2, 0), 8:(2, 1), 9:(2, 2),\n",
    "                '*':(3, 0), 0:(3, 1), '#':(3, 2)}\n",
    "\n",
    "    lh = '*'\n",
    "    rh = '#'\n",
    "    answer = \"\"\n",
    "    \n",
    "    for x in numbers:\n",
    "        if x in l:\n",
    "            answer = answer + 'L'\n",
    "            lh = x\n",
    "    \n",
    "        elif x in r:\n",
    "            answer = answer + 'R'\n",
    "            rh = x\n",
    "            \n",
    "        else:\n",
    "            lx = abs(position[lh][0] - position[x][0]) + abs(position[lh][1] - position[x][1])\n",
    "            rx = abs(position[rh][0] - position[x][0]) + abs(position[rh][1] - position[x][1])\n",
    "                 \n",
    "            if lx == rx:\n",
    "                if hand == 'right':\n",
    "                    answer = answer + 'R'\n",
    "                    rh = x\n",
    "                else:\n",
    "                    answer = answer + 'L'\n",
    "                    lh = x\n",
    "                 \n",
    "            elif lx > rx:\n",
    "                answer = answer + 'R'\n",
    "                rh = x\n",
    "            else:\n",
    "                answer = answer + 'L'\n",
    "                lh = x\n",
    "                \n",
    "    return answer\n",
    "\n",
    "numbers = [1, 3, 4, 5, 8, 2, 1, 4, 5, 9, 5]\n",
    "hand = \"right\"\n",
    "\n",
    "print(solution(numbers, hand))"
   ]
  },
  {
   "cell_type": "code",
   "execution_count": null,
   "metadata": {},
   "outputs": [],
   "source": [
    "LRLLLRLLRRL"
   ]
  }
 ],
 "metadata": {
  "kernelspec": {
   "display_name": "Python 3",
   "language": "python",
   "name": "python3"
  },
  "language_info": {
   "codemirror_mode": {
    "name": "ipython",
    "version": 3
   },
   "file_extension": ".py",
   "mimetype": "text/x-python",
   "name": "python",
   "nbconvert_exporter": "python",
   "pygments_lexer": "ipython3",
   "version": "3.8.5"
  }
 },
 "nbformat": 4,
 "nbformat_minor": 4
}
